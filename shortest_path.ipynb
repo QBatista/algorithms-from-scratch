{
 "cells": [
  {
   "cell_type": "markdown",
   "metadata": {},
   "source": [
    "## Shortest Paths\n",
    "\n",
    "This notebook solves Exercise 1 from the [QuantEcon lecture on shortest paths](https://lectures.quantecon.org/jl/short_path.html)."
   ]
  },
  {
   "cell_type": "code",
   "execution_count": 1,
   "metadata": {},
   "outputs": [],
   "source": [
    "# Preprocessing\n",
    "f = open(\"graph.txt\")\n",
    "lines = readlines(f)\n",
    "\n",
    "c = fill(Inf, length(lines), length(lines))  # Initialize graph\n",
    "c[100, :] .= 0.\n",
    "\n",
    "i = 1\n",
    "for line in lines\n",
    "    temp = split(line, \", \")\n",
    "    for node in temp[2:end]\n",
    "        node_split = split(node)\n",
    "        destination_node = parse(Int, node_split[1][5:end]) + 1\n",
    "        cost = parse(Float64, node_split[2])\n",
    "        c[i, destination_node] = cost\n",
    "    end\n",
    "    i += 1\n",
    "end\n",
    "\n",
    "J = fill(100, length(lines));  # Initialize minimum cost-to-go\n",
    "J[100] = 0.;"
   ]
  },
  {
   "cell_type": "code",
   "execution_count": 2,
   "metadata": {},
   "outputs": [
    {
     "data": {
      "text/plain": [
       "100×1 Array{Float64,2}:\n",
       " 160.55             \n",
       " 162.26000000000002 \n",
       "  88.52000000000001 \n",
       " 143.73000000000002 \n",
       " 145.12000000000003 \n",
       " 147.43000000000004 \n",
       " 141.67000000000002 \n",
       " 144.10000000000002 \n",
       " 149.44             \n",
       " 140.95000000000002 \n",
       " 150.8              \n",
       " 141.99             \n",
       " 148.93             \n",
       "   ⋮                \n",
       "   4.59             \n",
       "  37.6              \n",
       "  13.56             \n",
       "  22.8              \n",
       "  11.870000000000001\n",
       "   3.28             \n",
       "   3.09             \n",
       "   0.27             \n",
       "   1.06             \n",
       "   0.63             \n",
       "   0.33             \n",
       "   0.0              "
      ]
     },
     "execution_count": 2,
     "metadata": {},
     "output_type": "execute_result"
    }
   ],
   "source": [
    "# Fixed point computation\n",
    "tol = 1e-8\n",
    "max_iter = 10000\n",
    "iter = 1\n",
    "\n",
    "J_old = J\n",
    "J = minimum(broadcast(+, c, transpose(J)), dims=2)\n",
    "while maximum(abs.(J - J_old)) > tol && iter < max_iter\n",
    "    J_old = J\n",
    "    J = minimum(broadcast(+, c, transpose(J)), dims=2)\n",
    "    iter += 1\n",
    "end\n",
    "\n",
    "if iter >= max_iter\n",
    "    println(\"Failed to converge\")\n",
    "else\n",
    "    J_star = J;\n",
    "end"
   ]
  },
  {
   "cell_type": "code",
   "execution_count": 3,
   "metadata": {},
   "outputs": [
    {
     "name": "stdout",
     "output_type": "stream",
     "text": [
      "Optimal Path from Node 0\n",
      "node0\n",
      "node8\n",
      "node11\n",
      "node18\n",
      "node23\n",
      "node33\n",
      "node41\n",
      "node53\n",
      "node56\n",
      "node57\n",
      "node60\n",
      "node67\n",
      "node70\n",
      "node73\n",
      "node76\n",
      "node85\n",
      "node87\n",
      "node88\n",
      "node93\n",
      "node94\n",
      "node96\n",
      "node97\n",
      "node98\n",
      "node99\n"
     ]
    }
   ],
   "source": [
    "optimal_policy = argmin(broadcast(+, c, transpose(J_star)), dims=2)\n",
    "\n",
    "println(\"Optimal Path from Node 0\")\n",
    "node = 1\n",
    "iter = 1\n",
    "println(string(\"node\", node - 1))\n",
    "while node < 100 && iter < max_iter\n",
    "    node = optimal_policy[node][2]\n",
    "    println(string(\"node\", node - 1))    \n",
    "    iter += 1\n",
    "end"
   ]
  },
  {
   "cell_type": "code",
   "execution_count": 4,
   "metadata": {},
   "outputs": [
    {
     "name": "stdout",
     "output_type": "stream",
     "text": [
      "Total Cost from Node 0\n"
     ]
    },
    {
     "data": {
      "text/plain": [
       "160.55"
      ]
     },
     "execution_count": 4,
     "metadata": {},
     "output_type": "execute_result"
    }
   ],
   "source": [
    "println(\"Total Cost from Node 0\")\n",
    "J[1]  # https://github.com/QuantEcon/QuantEcon.lectures.code/blob/master/short_path/graph_out.txt"
   ]
  }
 ],
 "metadata": {
  "kernelspec": {
   "display_name": "Julia 1.0.1",
   "language": "julia",
   "name": "julia-1.0"
  },
  "language_info": {
   "file_extension": ".jl",
   "mimetype": "application/julia",
   "name": "julia",
   "version": "1.0.1"
  },
  "latex_envs": {
   "LaTeX_envs_menu_present": true,
   "autoclose": false,
   "autocomplete": true,
   "bibliofile": "biblio.bib",
   "cite_by": "apalike",
   "current_citInitial": 1,
   "eqLabelWithNumbers": true,
   "eqNumInitial": 1,
   "hotkeys": {
    "equation": "Ctrl-E",
    "itemize": "Ctrl-I"
   },
   "labels_anchors": false,
   "latex_user_defs": false,
   "report_style_numbering": false,
   "user_envs_cfg": false
  }
 },
 "nbformat": 4,
 "nbformat_minor": 2
}

{
 "cells": [
  {
   "cell_type": "markdown",
   "metadata": {},
   "source": [
    "## Metropolis-Hastings Algorithm\n",
    "\n",
    "This notebook implements the Random Walk Metropolis algorithm for sampling from one-dimensional distributions.\n",
    "\n",
    "Reference: https://en.wikipedia.org/wiki/Metropolis%E2%80%93Hastings_algorithm"
   ]
  },
  {
   "cell_type": "code",
   "execution_count": 1,
   "metadata": {},
   "outputs": [],
   "source": [
    "import numpy as np\n",
    "from numba import jit\n",
    "import matplotlib.pyplot as plt\n",
    "\n",
    "%matplotlib inline"
   ]
  },
  {
   "cell_type": "code",
   "execution_count": 2,
   "metadata": {},
   "outputs": [],
   "source": [
    "@jit(nopython=True)\n",
    "def metropolis_hastings(warm_up, nb_samples, target_distribution, jumping_distribution):\n",
    "    # Compute total number of samples\n",
    "    total_nb_samples = warm_up + nb_samples\n",
    "    \n",
    "    # Keeps track of the generated samples\n",
    "    samples = np.empty(total_nb_samples)\n",
    "    \n",
    "    # Sample the initial value\n",
    "    samples[0] = jumping_distribution(0.)\n",
    "    \n",
    "    for i in range(1, total_nb_samples):\n",
    "        # Generate a proposal\n",
    "        proposal = jumping_distribution(samples[i-1])\n",
    "        \n",
    "        # Compute probability of acceptance of the proposal\n",
    "        acceptance_prob = min(1., target_distribution(proposal) / target_distribution(samples[i-1]))\n",
    "        \n",
    "        # Accept with prob `acceptance_prob`, reject otherwise\n",
    "        if np.random.rand() < acceptance_prob: \n",
    "            samples[i] = proposal\n",
    "        else:\n",
    "            samples[i] = samples[i-1]\n",
    "            \n",
    "    return samples"
   ]
  },
  {
   "cell_type": "code",
   "execution_count": 3,
   "metadata": {},
   "outputs": [
    {
     "data": {
      "image/png": "[encoded data removed]",
      "text/plain": [
       "<Figure size 432x288 with 1 Axes>"
      ]
     },
     "metadata": {},
     "output_type": "display_data"
    }
   ],
   "source": [
    "@jit(nopython=True)\n",
    "def target_distribution(x):\n",
    "    return 1 / (np.pi * (1 + x ** 2)) # Cauchy distribution\n",
    "\n",
    "@jit(nopython=True)\n",
    "def jumping_distribution(x):\n",
    "    return np.random.normal(loc=x, scale=1)\n",
    "\n",
    "x = np.arange(-50, 50, 0.01)\n",
    "density_values = target_distribution(x)\n",
    "\n",
    "warm_up = 20000\n",
    "nb_samples = 20000\n",
    "total_samples = metropolis_hastings(warm_up, nb_samples, target_distribution, jumping_distribution)\n",
    "\n",
    "plt.hist(total_samples[warm_up:], bins=75, density=True, label='samples')\n",
    "plt.plot(x, density_values, label='density')\n",
    "plt.legend();"
   ]
  },
  {
   "cell_type": "code",
   "execution_count": null,
   "metadata": {},
   "outputs": [],
   "source": []
  }
 ],
 "metadata": {
  "kernelspec": {
   "display_name": "Python 3",
   "language": "python",
   "name": "python3"
  },
  "language_info": {
   "codemirror_mode": {
    "name": "ipython",
    "version": 3
   },
   "file_extension": ".py",
   "mimetype": "text/x-python",
   "name": "python",
   "nbconvert_exporter": "python",
   "pygments_lexer": "ipython3",
   "version": "3.6.6"
  }
 },
 "nbformat": 4,
 "nbformat_minor": 2
}
